{
  "cells": [
    {
      "cell_type": "code",
      "execution_count": 23,
      "metadata": {
        "id": "8CTDwFs0h60E"
      },
      "outputs": [],
      "source": []
    },
    {
      "cell_type": "code",
      "execution_count": 1,
      "metadata": {
        "id": "8g904FIunbN4"
      },
      "outputs": [],
      "source": [
        "import numpy as np\n",
        "\n",
        "def angle_between_vectors(v1, v2):\n",
        "    \"\"\"Compute angle (degrees) and cosine between two vectors.\"\"\"\n",
        "    dot_product = np.dot(v1, v2)\n",
        "    magnitude_v1 = np.linalg.norm(v1)\n",
        "    magnitude_v2 = np.linalg.norm(v2)\n",
        "\n",
        "    if magnitude_v1 == 0 or magnitude_v2 == 0:\n",
        "        return None, None  # Avoid division by zero\n",
        "\n",
        "    cos_theta = dot_product / (magnitude_v1 * magnitude_v2)\n",
        "    angle = np.degrees(np.arccos(np.clip(cos_theta, -1.0, 1.0)))  # Clip for numerical stability\n",
        "    return angle, cos_theta  # Return both angle and cosine\n",
        "\n",
        "\n"
      ]
    },
    {
      "cell_type": "code",
      "execution_count": 2,
      "metadata": {
        "colab": {
          "base_uri": "https://localhost:8080/"
        },
        "id": "hln4R0jHsLg9",
        "outputId": "7eefbdac-002a-4007-aad4-03e5390308e2"
      },
      "outputs": [
        {
          "name": "stdout",
          "output_type": "stream",
          "text": [
            "FCC Slip Systems (Plane, Direction, SF):\n",
            "\n",
            "Plane [1 1 1], Dir [ 1 -1  0] -> SF: 0.35\n",
            "Plane [1 1 1], Dir [ 1  0 -1] -> SF: 0.47\n",
            "Plane [1 1 1], Dir [ 0  1 -1] -> SF: 0.12\n",
            "Plane [ 1 -1  1], Dir [1 1 0] -> SF: 0.00\n",
            "Plane [ 1 -1  1], Dir [ 1  0 -1] -> SF: 0.00\n",
            "Plane [ 1 -1  1], Dir [ 0 -1  1] -> SF: 0.00\n",
            "Plane [-1  1  1], Dir [1 1 0] -> SF: 0.17\n",
            "Plane [-1  1  1], Dir [1 0 1] -> SF: 0.35\n",
            "Plane [-1  1  1], Dir [ 0  1 -1] -> SF: 0.17\n",
            "Plane [-1 -1  1], Dir [1 1 0] -> SF: 0.06\n",
            "Plane [-1 -1  1], Dir [1 0 1] -> SF: 0.12\n",
            "Plane [-1 -1  1], Dir [0 1 1] -> SF: 0.29\n",
            "\n",
            "Maximum Schmid Factor:\n",
            "Plane [1 1 1], Direction [ 1  0 -1], SF: 0.47\n"
          ]
        }
      ],
      "source": [
        "# FCC Slip Systems (Plane: [Slip Directions])\n",
        "fcc_slip_systems = {\n",
        "    (1, 1, 1): [(1, -1, 0), (1, 0, -1), (0, 1, -1)],\n",
        "    (1, -1, 1): [(1, 1, 0), (1, 0, -1), (0, -1, 1)],\n",
        "    (-1, 1, 1): [(1, 1, 0), (1, 0, 1), (0, 1, -1)], #  (-1, 0, 1) -> (1,0,1)\n",
        "    (-1, -1, 1): [(1, 1, 0), (1, 0, 1), (0, 1, 1)],\n",
        "}\n",
        "\n",
        "# Define Tensile Axis\n",
        "TA = np.array([-1, 2, 3])\n",
        "\n",
        "max_sf = 0\n",
        "max_slip_systems = []\n",
        "\n",
        "print(\"FCC Slip Systems (Plane, Direction, SF):\\n\")\n",
        "for plane, directions in fcc_slip_systems.items():\n",
        "    plane_vec = np.array(plane)  # Convert tuple to numpy array\n",
        "    _, cos_phi = angle_between_vectors(plane_vec, TA)  # Get cosine of angle\n",
        "\n",
        "    for direction in directions:\n",
        "        direction_vec = np.array(direction)  # Convert tuple to numpy array\n",
        "        _, cos_lambda = angle_between_vectors(direction_vec, TA)\n",
        "\n",
        "        # Correct Schmid Factor Calculation\n",
        "        schmid_factor = abs(cos_phi * cos_lambda)  # Take absolute value for SF\n",
        "        print(f\"Plane {plane_vec}, Dir {direction_vec} -> SF: {schmid_factor:.2f}\")\n",
        "\n",
        "        # Track maximum SF\n",
        "        if schmid_factor > max_sf:\n",
        "            max_sf = schmid_factor\n",
        "            max_slip_systems = [(plane_vec, direction_vec)]\n",
        "        elif schmid_factor == max_sf:\n",
        "            max_slip_systems.append((plane_vec, direction_vec))\n",
        "\n",
        "print(\"\\nMaximum Schmid Factor:\")\n",
        "for plane, direction in max_slip_systems:\n",
        "    print(f\"Plane {plane}, Direction {direction}, SF: {max_sf:.2f}\")\n"
      ]
    },
    {
      "cell_type": "code",
      "execution_count": null,
      "metadata": {
        "colab": {
          "base_uri": "https://localhost:8080/"
        },
        "id": "2JSkAHQgrZ8n",
        "outputId": "f063192c-b29e-4953-86fb-a526196476bc"
      },
      "outputs": [],
      "source": []
    },
    {
      "cell_type": "code",
      "execution_count": null,
      "metadata": {
        "id": "Nx63tV3yqJL7"
      },
      "outputs": [],
      "source": []
    }
  ],
  "metadata": {
    "colab": {
      "provenance": []
    },
    "kernelspec": {
      "display_name": "Python 3",
      "name": "python3"
    },
    "language_info": {
      "codemirror_mode": {
        "name": "ipython",
        "version": 3
      },
      "file_extension": ".py",
      "mimetype": "text/x-python",
      "name": "python",
      "nbconvert_exporter": "python",
      "pygments_lexer": "ipython3",
      "version": "3.10.6"
    }
  },
  "nbformat": 4,
  "nbformat_minor": 0
}
